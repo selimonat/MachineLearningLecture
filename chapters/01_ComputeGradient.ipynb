{
 "cells": [
  {
   "cell_type": "code",
   "execution_count": 1,
   "metadata": {
    "collapsed": true,
    "ExecuteTime": {
     "start_time": "2023-04-27T14:08:54.057633Z",
     "end_time": "2023-04-27T14:08:54.061194Z"
    }
   },
   "outputs": [
    {
     "name": "stdout",
     "output_type": "stream",
     "text": [
      "f = 6.909297426825682\n",
      "∂f/∂x = 2.5838531634528574\n",
      "∂f/∂y = 2\n"
     ]
    }
   ],
   "source": [
    "import math\n",
    "\n",
    "class Var:\n",
    "    def __init__(self, value, children=None):\n",
    "        self.value = value\n",
    "        self.children = children or []\n",
    "        self.grad = 0\n",
    "\n",
    "    def __add__(self, other):\n",
    "        return Var(self.value + other.value, [(1, self), (1, other)])\n",
    "\n",
    "    def __mul__(self, other):\n",
    "        return Var(self.value * other.value, [(other.value, self), (self.value, other)])\n",
    "\n",
    "    def sin(self):\n",
    "        return Var(math.sin(self.value), [(math.cos(self.value), self)])\n",
    "\n",
    "    def calc_grad(self, grad=1):\n",
    "        self.grad += grad\n",
    "        for coef, child in self.children:\n",
    "            child.calc_grad(grad * coef)\n",
    "\n",
    "# Example: f(x, y) = x * y + sin(x)\n",
    "x = Var(2)\n",
    "y = Var(3)\n",
    "f = x * y + x.sin()\n",
    "\n",
    "# Calculation of partial derivatives\n",
    "f.calc_grad()\n",
    "\n",
    "print(\"f =\", f.value)\n",
    "print(\"∂f/∂x =\", x.grad)\n",
    "print(\"∂f/∂y =\", y.grad)"
   ]
  },
  {
   "cell_type": "code",
   "execution_count": null,
   "outputs": [],
   "source": [],
   "metadata": {
    "collapsed": false
   }
  }
 ],
 "metadata": {
  "kernelspec": {
   "display_name": "Python 3",
   "language": "python",
   "name": "python3"
  },
  "language_info": {
   "codemirror_mode": {
    "name": "ipython",
    "version": 2
   },
   "file_extension": ".py",
   "mimetype": "text/x-python",
   "name": "python",
   "nbconvert_exporter": "python",
   "pygments_lexer": "ipython2",
   "version": "2.7.6"
  }
 },
 "nbformat": 4,
 "nbformat_minor": 0
}
